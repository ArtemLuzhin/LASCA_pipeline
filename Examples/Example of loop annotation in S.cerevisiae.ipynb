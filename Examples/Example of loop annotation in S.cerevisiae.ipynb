{
 "cells": [
  {
   "cell_type": "markdown",
   "metadata": {},
   "source": [
    "# Example of loop annotation in S.cerevisiae"
   ]
  },
  {
   "cell_type": "markdown",
   "metadata": {},
   "source": [
    "## One step annotation"
   ]
  },
  {
   "cell_type": "code",
   "execution_count": 1,
   "metadata": {},
   "outputs": [],
   "source": [
    "#import\n",
    "import numpy as np\n",
    "import LASCA_pipeline\n",
    "import cooler"
   ]
  },
  {
   "cell_type": "code",
   "execution_count": 2,
   "metadata": {},
   "outputs": [],
   "source": [
    "#import cool file\n",
    "S=cooler.Cooler('Saccer_1000_no_norm.cool')\n",
    "\n",
    "#set resolution from cool\n",
    "resolution=S.info['bin-size']\n",
    "\n",
    "#set maximum loop size\n",
    "distance_bins=40 #40Kb\n",
    "\n",
    "#list of chromosomes\n",
    "chroms=S.chromnames\n",
    "\n",
    "#remove chrM from data\n",
    "chroms.remove(u'chrM')"
   ]
  },
  {
   "cell_type": "code",
   "execution_count": 3,
   "metadata": {},
   "outputs": [],
   "source": [
    "#load HiC contacts\n",
    "#raw count\n",
    "mtx_raw_S=S.matrix(balance=False).fetch(u'chrI')\n",
    "#Balanced\n",
    "mtx_S=S.matrix(balance=True).fetch(u'chrI')\n"
   ]
  },
  {
   "cell_type": "code",
   "execution_count": 4,
   "metadata": {},
   "outputs": [
    {
     "name": "stdout",
     "output_type": "stream",
     "text": [
      "Calculating coverage per bin...\n",
      "('Filter poor bins with coverage <=', 0.25)\n",
      "Filtering complete.\n",
      "Start fitting Weibull distribution...\n",
      "Distribution fitted.\n",
      "Calculate q-values...\n",
      "Finished!\n",
      "q-value matrix not saved\n",
      "Finished!\n"
     ]
    }
   ],
   "source": [
    "#Set up parameters and annotate\n",
    "#set up end bin of matrix \n",
    "end_bin=mtx_S.shape[0]-1 \n",
    "\n",
    "LASCA_pipeline.LASCA_processing(raw_mtx=mtx_raw_S,mtx=mtx_S,chr_name='chrI',output_bedpe_name='Example_chrI.bedpe',\\\n",
    "                 resolution=resolution,start_bin=0,end_bin=end_bin,distance_bins=distance_bins,\n",
    "                 FDR=0.05,q=0.95,adjust_by_scale=False,min_cluster=3,filter_bins=2,q_value_trhd=0.05,Intensity=True,\\\n",
    "                 as_intervals=True,bin_coverage=0.25,save_qvalues_mtx=False,use_filter=False)"
   ]
  },
  {
   "cell_type": "markdown",
   "metadata": {},
   "source": [
    "## Building pipeline from functions"
   ]
  },
  {
   "cell_type": "code",
   "execution_count": 5,
   "metadata": {},
   "outputs": [],
   "source": [
    "#load HiC contacts\n",
    "#raw count\n",
    "mtx_raw_S=S.matrix(balance=False).fetch(u'chrI')\n",
    "#Balanced\n",
    "mtx_S=S.matrix(balance=True).fetch(u'chrI')"
   ]
  },
  {
   "cell_type": "code",
   "execution_count": 6,
   "metadata": {},
   "outputs": [],
   "source": [
    "#NaNs to zeros\n",
    "np.nan_to_num(mtx_S,copy=False)\n",
    "np.nan_to_num(mtx_raw_S,copy=False)\n",
    "#set up end bin of matrix \n",
    "end_bin=mtx_S.shape[0]-1 "
   ]
  },
  {
   "cell_type": "code",
   "execution_count": 7,
   "metadata": {},
   "outputs": [
    {
     "name": "stdout",
     "output_type": "stream",
     "text": [
      "Calculating coverage per bin...\n",
      "('Filter poor bins with coverage <=', 0.25)\n",
      "Filtering complete.\n",
      "Start fitting Weibull distribution...\n",
      "Distribution fitted.\n",
      "Calculate q-values...\n",
      "Finished!\n"
     ]
    }
   ],
   "source": [
    "#calculate q-value at specific distance range\n",
    "q_vals_full_chrom=LASCA_pipeline.Get_pvalue_v7(mtx_raw_S,mtx_S,resolution,0*resolution,end_bin*resolution,40*resolution)\n",
    "#convert q-values to log10\n",
    "result_full_chrom=LASCA_pipeline.convert_to_log10_square_matrix(q_vals_full_chrom)\n",
    "#convert to square q-value matrix\n",
    "qvals_mtx=LASCA_pipeline.Get_qvals_mtx_v2(result_full_chrom,distance_bins)\n",
    "#cluster significant dots\n",
    "tmp_df=LASCA_pipeline.cluster_dots(qvals_mtx,mtx_S,3,filter_dist=2,q_value_treshold=0.05)\n",
    "#Coordinates of cluster centers\n",
    "coord=LASCA_pipeline.Get_coordinates(tmp_df,Intensity=True,as_intervals=True)"
   ]
  },
  {
   "cell_type": "code",
   "execution_count": 8,
   "metadata": {},
   "outputs": [
    {
     "data": {
      "text/plain": [
       "'Saved: Example_chrI_2.bedpe'"
      ]
     },
     "execution_count": 8,
     "metadata": {},
     "output_type": "execute_result"
    }
   ],
   "source": [
    "LASCA_pipeline.Export_as_bedpe(coord,'chrI',resolution,'Example_chrI_2.bedpe')"
   ]
  },
  {
   "cell_type": "code",
   "execution_count": null,
   "metadata": {},
   "outputs": [],
   "source": []
  }
 ],
 "metadata": {
  "kernelspec": {
   "display_name": "Python 3",
   "language": "python",
   "name": "python3"
  },
  "language_info": {
   "codemirror_mode": {
    "name": "ipython",
    "version": 2
   },
   "file_extension": ".py",
   "mimetype": "text/x-python",
   "name": "python",
   "nbconvert_exporter": "python",
   "pygments_lexer": "ipython2",
   "version": "2.7.15rc1"
  },
  "toc": {
   "base_numbering": 1,
   "nav_menu": {},
   "number_sections": true,
   "sideBar": true,
   "skip_h1_title": false,
   "title_cell": "Table of Contents",
   "title_sidebar": "Contents",
   "toc_cell": false,
   "toc_position": {},
   "toc_section_display": true,
   "toc_window_display": false
  }
 },
 "nbformat": 4,
 "nbformat_minor": 2
}
